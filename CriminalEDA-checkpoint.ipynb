{
 "cells": [
  {
   "cell_type": "code",
   "execution_count": 3,
   "metadata": {},
   "outputs": [],
   "source": [
    "import pandas as pd\n",
    "import numpy as np"
   ]
  },
  {
   "cell_type": "code",
   "execution_count": 4,
   "metadata": {},
   "outputs": [],
   "source": [
    "criminal_records = pd.read_csv(r'C:\\Users\\jorda\\Documents\\School\\Senior\\Spring 2021\\DS440\\CrimeData\\dc-crimes-search-results.csv')\n",
    "income = pd.read_csv(r'C:\\Users\\jorda\\Documents\\School\\Senior\\Spring 2021\\DS440\\CrimeData\\indicator_data_download_20210222.csv', index_col=False)"
   ]
  },
  {
   "cell_type": "code",
   "execution_count": 5,
   "metadata": {
    "scrolled": true
   },
   "outputs": [
    {
     "data": {
      "text/html": [
       "<div>\n",
       "<style scoped>\n",
       "    .dataframe tbody tr th:only-of-type {\n",
       "        vertical-align: middle;\n",
       "    }\n",
       "\n",
       "    .dataframe tbody tr th {\n",
       "        vertical-align: top;\n",
       "    }\n",
       "\n",
       "    .dataframe thead th {\n",
       "        text-align: right;\n",
       "    }\n",
       "</style>\n",
       "<table border=\"1\" class=\"dataframe\">\n",
       "  <thead>\n",
       "    <tr style=\"text-align: right;\">\n",
       "      <th></th>\n",
       "      <th>Location</th>\n",
       "      <th>Indicator Rate Value</th>\n",
       "      <th>Rate Lower Confidence Interval</th>\n",
       "      <th>Rate Upper Confidence Interval</th>\n",
       "    </tr>\n",
       "  </thead>\n",
       "  <tbody>\n",
       "    <tr>\n",
       "      <th>0</th>\n",
       "      <td>11001000100</td>\n",
       "      <td>191146</td>\n",
       "      <td>165735</td>\n",
       "      <td>216557</td>\n",
       "    </tr>\n",
       "    <tr>\n",
       "      <th>1</th>\n",
       "      <td>11001000100</td>\n",
       "      <td>168477</td>\n",
       "      <td>150211</td>\n",
       "      <td>186743</td>\n",
       "    </tr>\n",
       "    <tr>\n",
       "      <th>2</th>\n",
       "      <td>11001000100</td>\n",
       "      <td>167188</td>\n",
       "      <td>146473</td>\n",
       "      <td>187903</td>\n",
       "    </tr>\n",
       "    <tr>\n",
       "      <th>3</th>\n",
       "      <td>11001000100</td>\n",
       "      <td>170338</td>\n",
       "      <td>150468</td>\n",
       "      <td>190208</td>\n",
       "    </tr>\n",
       "    <tr>\n",
       "      <th>4</th>\n",
       "      <td>11001000100</td>\n",
       "      <td>146161</td>\n",
       "      <td>116553</td>\n",
       "      <td>175769</td>\n",
       "    </tr>\n",
       "  </tbody>\n",
       "</table>\n",
       "</div>"
      ],
      "text/plain": [
       "      Location  Indicator Rate Value  Rate Lower Confidence Interval  \\\n",
       "0  11001000100                191146                          165735   \n",
       "1  11001000100                168477                          150211   \n",
       "2  11001000100                167188                          146473   \n",
       "3  11001000100                170338                          150468   \n",
       "4  11001000100                146161                          116553   \n",
       "\n",
       "   Rate Upper Confidence Interval  \n",
       "0                          216557  \n",
       "1                          186743  \n",
       "2                          187903  \n",
       "3                          190208  \n",
       "4                          175769  "
      ]
     },
     "execution_count": 5,
     "metadata": {},
     "output_type": "execute_result"
    }
   ],
   "source": [
    "income.head()"
   ]
  },
  {
   "cell_type": "code",
   "execution_count": 7,
   "metadata": {},
   "outputs": [],
   "source": [
    "income['Location'] = income.Location.astype(str).str[6:].astype(int)"
   ]
  },
  {
   "cell_type": "code",
   "execution_count": 8,
   "metadata": {},
   "outputs": [],
   "source": [
    "incomes = income.groupby('Location')"
   ]
  },
  {
   "cell_type": "code",
   "execution_count": 9,
   "metadata": {},
   "outputs": [
    {
     "data": {
      "text/html": [
       "<div>\n",
       "<style scoped>\n",
       "    .dataframe tbody tr th:only-of-type {\n",
       "        vertical-align: middle;\n",
       "    }\n",
       "\n",
       "    .dataframe tbody tr th {\n",
       "        vertical-align: top;\n",
       "    }\n",
       "\n",
       "    .dataframe thead th {\n",
       "        text-align: right;\n",
       "    }\n",
       "</style>\n",
       "<table border=\"1\" class=\"dataframe\">\n",
       "  <thead>\n",
       "    <tr style=\"text-align: right;\">\n",
       "      <th></th>\n",
       "      <th>NEIGHBORHOOD_CLUSTER</th>\n",
       "      <th>CENSUS_TRACT</th>\n",
       "      <th>offensegroup</th>\n",
       "      <th>LONGITUDE</th>\n",
       "      <th>END_DATE</th>\n",
       "      <th>offense-text</th>\n",
       "      <th>SHIFT</th>\n",
       "      <th>YBLOCK</th>\n",
       "      <th>DISTRICT</th>\n",
       "      <th>WARD</th>\n",
       "      <th>...</th>\n",
       "      <th>BLOCK</th>\n",
       "      <th>START_DATE</th>\n",
       "      <th>CCN</th>\n",
       "      <th>OFFENSE</th>\n",
       "      <th>OCTO_RECORD_ID</th>\n",
       "      <th>ANC</th>\n",
       "      <th>REPORT_DAT</th>\n",
       "      <th>METHOD</th>\n",
       "      <th>location</th>\n",
       "      <th>LATITUDE</th>\n",
       "    </tr>\n",
       "  </thead>\n",
       "  <tbody>\n",
       "    <tr>\n",
       "      <th>0</th>\n",
       "      <td>cluster 21</td>\n",
       "      <td>8702.0</td>\n",
       "      <td>property</td>\n",
       "      <td>-77.003574</td>\n",
       "      <td>2017-04-29T08:00:23.000</td>\n",
       "      <td>theft f/auto</td>\n",
       "      <td>day</td>\n",
       "      <td>138139.0</td>\n",
       "      <td>5.0</td>\n",
       "      <td>5</td>\n",
       "      <td>...</td>\n",
       "      <td>150 - 299 block of q street ne</td>\n",
       "      <td>2017-04-29T01:30:14.000</td>\n",
       "      <td>17070672</td>\n",
       "      <td>theft f/auto</td>\n",
       "      <td>17070672-01</td>\n",
       "      <td>5E</td>\n",
       "      <td>2017-04-29T13:49:31.000Z</td>\n",
       "      <td>others</td>\n",
       "      <td>38.911121322949178,-77.003576581965632</td>\n",
       "      <td>38.911114</td>\n",
       "    </tr>\n",
       "    <tr>\n",
       "      <th>1</th>\n",
       "      <td>cluster 16</td>\n",
       "      <td>1600.0</td>\n",
       "      <td>property</td>\n",
       "      <td>-77.026557</td>\n",
       "      <td>2017-04-29T08:30:37.000</td>\n",
       "      <td>theft f/auto</td>\n",
       "      <td>day</td>\n",
       "      <td>146051.0</td>\n",
       "      <td>4.0</td>\n",
       "      <td>4</td>\n",
       "      <td>...</td>\n",
       "      <td>7600  - 7699 block of georgia avenue nw</td>\n",
       "      <td>2017-04-29T02:30:10.000</td>\n",
       "      <td>17070675</td>\n",
       "      <td>theft f/auto</td>\n",
       "      <td>17070675-01</td>\n",
       "      <td>4A</td>\n",
       "      <td>2017-04-29T14:38:59.000Z</td>\n",
       "      <td>others</td>\n",
       "      <td>38.982391883146363,-77.026559339798794</td>\n",
       "      <td>38.982384</td>\n",
       "    </tr>\n",
       "    <tr>\n",
       "      <th>2</th>\n",
       "      <td>cluster 8</td>\n",
       "      <td>4702.0</td>\n",
       "      <td>property</td>\n",
       "      <td>-77.020913</td>\n",
       "      <td>2017-04-29T11:10:57.000</td>\n",
       "      <td>theft/other</td>\n",
       "      <td>day</td>\n",
       "      <td>137185.0</td>\n",
       "      <td>1.0</td>\n",
       "      <td>6</td>\n",
       "      <td>...</td>\n",
       "      <td>600 - 699 block of k street nw</td>\n",
       "      <td>2017-04-29T10:43:33.000</td>\n",
       "      <td>17070714</td>\n",
       "      <td>theft/other</td>\n",
       "      <td>17070714-01</td>\n",
       "      <td>6E</td>\n",
       "      <td>2017-04-29T15:19:02.000Z</td>\n",
       "      <td>others</td>\n",
       "      <td>38.902525540064957,-77.020915170313728</td>\n",
       "      <td>38.902518</td>\n",
       "    </tr>\n",
       "    <tr>\n",
       "      <th>3</th>\n",
       "      <td>cluster 31</td>\n",
       "      <td>7808.0</td>\n",
       "      <td>property</td>\n",
       "      <td>-76.919601</td>\n",
       "      <td>2017-04-28T09:30:33.000</td>\n",
       "      <td>theft/other</td>\n",
       "      <td>day</td>\n",
       "      <td>135903.0</td>\n",
       "      <td>6.0</td>\n",
       "      <td>7</td>\n",
       "      <td>...</td>\n",
       "      <td>5715 5739  block of blaine street ne</td>\n",
       "      <td>2017-04-28T09:15:27.000</td>\n",
       "      <td>17070736</td>\n",
       "      <td>theft/other</td>\n",
       "      <td>17070736-01</td>\n",
       "      <td>7C</td>\n",
       "      <td>2017-04-29T16:11:44.000Z</td>\n",
       "      <td>others</td>\n",
       "      <td>38.890951021927407,-76.919603310082607</td>\n",
       "      <td>38.890943</td>\n",
       "    </tr>\n",
       "    <tr>\n",
       "      <th>4</th>\n",
       "      <td>cluster 39</td>\n",
       "      <td>10900.0</td>\n",
       "      <td>property</td>\n",
       "      <td>-77.003927</td>\n",
       "      <td>2017-04-29T13:42:11.000</td>\n",
       "      <td>theft/other</td>\n",
       "      <td>day</td>\n",
       "      <td>128340.0</td>\n",
       "      <td>7.0</td>\n",
       "      <td>8</td>\n",
       "      <td>...</td>\n",
       "      <td>4610 - 4659 block of south capitol street</td>\n",
       "      <td>2017-04-29T13:03:40.000</td>\n",
       "      <td>17070780</td>\n",
       "      <td>theft/other</td>\n",
       "      <td>17070780-01</td>\n",
       "      <td>8D</td>\n",
       "      <td>2017-04-29T18:17:15.000Z</td>\n",
       "      <td>others</td>\n",
       "      <td>38.822847890448664,-77.003929146312586</td>\n",
       "      <td>38.822840</td>\n",
       "    </tr>\n",
       "  </tbody>\n",
       "</table>\n",
       "<p>5 rows × 29 columns</p>\n",
       "</div>"
      ],
      "text/plain": [
       "  NEIGHBORHOOD_CLUSTER  CENSUS_TRACT offensegroup  LONGITUDE  \\\n",
       "0           cluster 21        8702.0     property -77.003574   \n",
       "1           cluster 16        1600.0     property -77.026557   \n",
       "2            cluster 8        4702.0     property -77.020913   \n",
       "3           cluster 31        7808.0     property -76.919601   \n",
       "4           cluster 39       10900.0     property -77.003927   \n",
       "\n",
       "                  END_DATE  offense-text SHIFT    YBLOCK  DISTRICT  WARD  ...  \\\n",
       "0  2017-04-29T08:00:23.000  theft f/auto   day  138139.0       5.0     5  ...   \n",
       "1  2017-04-29T08:30:37.000  theft f/auto   day  146051.0       4.0     4  ...   \n",
       "2  2017-04-29T11:10:57.000   theft/other   day  137185.0       1.0     6  ...   \n",
       "3  2017-04-28T09:30:33.000   theft/other   day  135903.0       6.0     7  ...   \n",
       "4  2017-04-29T13:42:11.000   theft/other   day  128340.0       7.0     8  ...   \n",
       "\n",
       "                                       BLOCK               START_DATE  \\\n",
       "0             150 - 299 block of q street ne  2017-04-29T01:30:14.000   \n",
       "1    7600  - 7699 block of georgia avenue nw  2017-04-29T02:30:10.000   \n",
       "2             600 - 699 block of k street nw  2017-04-29T10:43:33.000   \n",
       "3       5715 5739  block of blaine street ne  2017-04-28T09:15:27.000   \n",
       "4  4610 - 4659 block of south capitol street  2017-04-29T13:03:40.000   \n",
       "\n",
       "        CCN       OFFENSE  OCTO_RECORD_ID  ANC                REPORT_DAT  \\\n",
       "0  17070672  theft f/auto     17070672-01   5E  2017-04-29T13:49:31.000Z   \n",
       "1  17070675  theft f/auto     17070675-01   4A  2017-04-29T14:38:59.000Z   \n",
       "2  17070714   theft/other     17070714-01   6E  2017-04-29T15:19:02.000Z   \n",
       "3  17070736   theft/other     17070736-01   7C  2017-04-29T16:11:44.000Z   \n",
       "4  17070780   theft/other     17070780-01   8D  2017-04-29T18:17:15.000Z   \n",
       "\n",
       "   METHOD                                location   LATITUDE  \n",
       "0  others  38.911121322949178,-77.003576581965632  38.911114  \n",
       "1  others  38.982391883146363,-77.026559339798794  38.982384  \n",
       "2  others  38.902525540064957,-77.020915170313728  38.902518  \n",
       "3  others  38.890951021927407,-76.919603310082607  38.890943  \n",
       "4  others  38.822847890448664,-77.003929146312586  38.822840  \n",
       "\n",
       "[5 rows x 29 columns]"
      ]
     },
     "execution_count": 9,
     "metadata": {},
     "output_type": "execute_result"
    }
   ],
   "source": [
    "criminal_records.head()"
   ]
  },
  {
   "cell_type": "code",
   "execution_count": 10,
   "metadata": {},
   "outputs": [
    {
     "name": "stdout",
     "output_type": "stream",
     "text": [
      "(202216, 29)\n"
     ]
    }
   ],
   "source": [
    "print(criminal_records.shape)"
   ]
  },
  {
   "cell_type": "code",
   "execution_count": 11,
   "metadata": {},
   "outputs": [
    {
     "data": {
      "text/plain": [
       "property    173686\n",
       "violent      28530\n",
       "Name: offensegroup, dtype: int64"
      ]
     },
     "execution_count": 11,
     "metadata": {},
     "output_type": "execute_result"
    }
   ],
   "source": [
    "criminal_records.offensegroup.value_counts()"
   ]
  },
  {
   "cell_type": "code",
   "execution_count": 12,
   "metadata": {},
   "outputs": [
    {
     "data": {
      "text/plain": [
       "Index(['NEIGHBORHOOD_CLUSTER', 'CENSUS_TRACT', 'offensegroup', 'LONGITUDE',\n",
       "       'END_DATE', 'offense-text', 'SHIFT', 'YBLOCK', 'DISTRICT', 'WARD',\n",
       "       'YEAR', 'offensekey', 'BID', 'sector', 'PSA', 'ucr-rank', 'BLOCK_GROUP',\n",
       "       'VOTING_PRECINCT', 'XBLOCK', 'BLOCK', 'START_DATE', 'CCN', 'OFFENSE',\n",
       "       'OCTO_RECORD_ID', 'ANC', 'REPORT_DAT', 'METHOD', 'location',\n",
       "       'LATITUDE'],\n",
       "      dtype='object')"
      ]
     },
     "execution_count": 12,
     "metadata": {},
     "output_type": "execute_result"
    }
   ],
   "source": [
    "criminal_records.columns"
   ]
  },
  {
   "cell_type": "code",
   "execution_count": 13,
   "metadata": {
    "scrolled": true
   },
   "outputs": [
    {
     "data": {
      "text/plain": [
       "theft/other                   83427\n",
       "theft f/auto                  64104\n",
       "motor vehicle theft           15957\n",
       "robbery                       14679\n",
       "assault w/dangerous weapon    11301\n",
       "burglary                      10142\n",
       "sex abuse                      1604\n",
       "homicide                        946\n",
       "arson                            56\n",
       "Name: OFFENSE, dtype: int64"
      ]
     },
     "execution_count": 13,
     "metadata": {},
     "output_type": "execute_result"
    }
   ],
   "source": [
    "criminal_records.OFFENSE.value_counts()"
   ]
  },
  {
   "cell_type": "code",
   "execution_count": 14,
   "metadata": {
    "scrolled": true
   },
   "outputs": [
    {
     "data": {
      "text/plain": [
       "207.0    7619\n",
       "208.0    7446\n",
       "305.0    6789\n",
       "302.0    6650\n",
       "206.0    6235\n",
       "106.0    5919\n",
       "307.0    5123\n",
       "104.0    4816\n",
       "603.0    4782\n",
       "602.0    4777\n",
       "503.0    4764\n",
       "209.0    4760\n",
       "501.0    4743\n",
       "506.0    4674\n",
       "101.0    4671\n",
       "507.0    4456\n",
       "308.0    4225\n",
       "505.0    4015\n",
       "107.0    4008\n",
       "304.0    3989\n",
       "604.0    3951\n",
       "303.0    3889\n",
       "502.0    3683\n",
       "404.0    3626\n",
       "202.0    3413\n",
       "301.0    3357\n",
       "607.0    3339\n",
       "608.0    3330\n",
       "402.0    3307\n",
       "401.0    3198\n",
       "102.0    3156\n",
       "306.0    3129\n",
       "108.0    2894\n",
       "406.0    2865\n",
       "504.0    2746\n",
       "204.0    2739\n",
       "409.0    2721\n",
       "403.0    2636\n",
       "704.0    2600\n",
       "407.0    2593\n",
       "405.0    2590\n",
       "708.0    2487\n",
       "605.0    2440\n",
       "203.0    2437\n",
       "703.0    2398\n",
       "606.0    2181\n",
       "706.0    2126\n",
       "701.0    2088\n",
       "105.0    2063\n",
       "408.0    2004\n",
       "707.0    1988\n",
       "702.0    1851\n",
       "103.0    1815\n",
       "201.0    1586\n",
       "705.0    1575\n",
       "601.0    1471\n",
       "205.0    1404\n",
       "Name: PSA, dtype: int64"
      ]
     },
     "execution_count": 14,
     "metadata": {},
     "output_type": "execute_result"
    }
   ],
   "source": [
    "criminal_records.PSA.value_counts()"
   ]
  },
  {
   "cell_type": "code",
   "execution_count": 15,
   "metadata": {},
   "outputs": [
    {
     "data": {
      "text/plain": [
       "6446"
      ]
     },
     "execution_count": 15,
     "metadata": {},
     "output_type": "execute_result"
    }
   ],
   "source": [
    "criminal_records.CENSUS_TRACT.value_counts().iloc[0]"
   ]
  },
  {
   "cell_type": "code",
   "execution_count": 16,
   "metadata": {},
   "outputs": [
    {
     "data": {
      "text/plain": [
       "5800.0     6446\n",
       "4400.0     5600\n",
       "10700.0    4633\n",
       "10600.0    4172\n",
       "11100.0    3373\n",
       "           ... \n",
       "1301.0      211\n",
       "6804.0      209\n",
       "702.0       181\n",
       "201.0       172\n",
       "7301.0       13\n",
       "Name: CENSUS_TRACT, Length: 179, dtype: int64"
      ]
     },
     "execution_count": 16,
     "metadata": {},
     "output_type": "execute_result"
    }
   ],
   "source": [
    "criminal_records.CENSUS_TRACT.value_counts()"
   ]
  },
  {
   "cell_type": "code",
   "execution_count": 28,
   "metadata": {},
   "outputs": [],
   "source": [
    "incomesDF = incomes.apply(pd.DataFrame)"
   ]
  },
  {
   "cell_type": "code",
   "execution_count": 32,
   "metadata": {
    "scrolled": true
   },
   "outputs": [
    {
     "data": {
      "text/html": [
       "<div>\n",
       "<style scoped>\n",
       "    .dataframe tbody tr th:only-of-type {\n",
       "        vertical-align: middle;\n",
       "    }\n",
       "\n",
       "    .dataframe tbody tr th {\n",
       "        vertical-align: top;\n",
       "    }\n",
       "\n",
       "    .dataframe thead th {\n",
       "        text-align: right;\n",
       "    }\n",
       "</style>\n",
       "<table border=\"1\" class=\"dataframe\">\n",
       "  <thead>\n",
       "    <tr style=\"text-align: right;\">\n",
       "      <th></th>\n",
       "      <th>Location</th>\n",
       "      <th>Indicator Rate Value</th>\n",
       "      <th>Rate Lower Confidence Interval</th>\n",
       "      <th>Rate Upper Confidence Interval</th>\n",
       "    </tr>\n",
       "  </thead>\n",
       "  <tbody>\n",
       "    <tr>\n",
       "      <th>0</th>\n",
       "      <td>100</td>\n",
       "      <td>191146</td>\n",
       "      <td>165735</td>\n",
       "      <td>216557</td>\n",
       "    </tr>\n",
       "    <tr>\n",
       "      <th>1</th>\n",
       "      <td>100</td>\n",
       "      <td>168477</td>\n",
       "      <td>150211</td>\n",
       "      <td>186743</td>\n",
       "    </tr>\n",
       "    <tr>\n",
       "      <th>2</th>\n",
       "      <td>100</td>\n",
       "      <td>167188</td>\n",
       "      <td>146473</td>\n",
       "      <td>187903</td>\n",
       "    </tr>\n",
       "    <tr>\n",
       "      <th>3</th>\n",
       "      <td>100</td>\n",
       "      <td>170338</td>\n",
       "      <td>150468</td>\n",
       "      <td>190208</td>\n",
       "    </tr>\n",
       "    <tr>\n",
       "      <th>4</th>\n",
       "      <td>100</td>\n",
       "      <td>146161</td>\n",
       "      <td>116553</td>\n",
       "      <td>175769</td>\n",
       "    </tr>\n",
       "  </tbody>\n",
       "</table>\n",
       "</div>"
      ],
      "text/plain": [
       "   Location  Indicator Rate Value  Rate Lower Confidence Interval  \\\n",
       "0       100                191146                          165735   \n",
       "1       100                168477                          150211   \n",
       "2       100                167188                          146473   \n",
       "3       100                170338                          150468   \n",
       "4       100                146161                          116553   \n",
       "\n",
       "   Rate Upper Confidence Interval  \n",
       "0                          216557  \n",
       "1                          186743  \n",
       "2                          187903  \n",
       "3                          190208  \n",
       "4                          175769  "
      ]
     },
     "execution_count": 32,
     "metadata": {},
     "output_type": "execute_result"
    }
   ],
   "source": [
    "incomesDF.head()"
   ]
  },
  {
   "cell_type": "markdown",
   "metadata": {},
   "source": []
  },
  {
   "cell_type": "code",
   "execution_count": 34,
   "metadata": {},
   "outputs": [
    {
     "data": {
      "text/html": [
       "<div>\n",
       "<style scoped>\n",
       "    .dataframe tbody tr th:only-of-type {\n",
       "        vertical-align: middle;\n",
       "    }\n",
       "\n",
       "    .dataframe tbody tr th {\n",
       "        vertical-align: top;\n",
       "    }\n",
       "\n",
       "    .dataframe thead th {\n",
       "        text-align: right;\n",
       "    }\n",
       "</style>\n",
       "<table border=\"1\" class=\"dataframe\">\n",
       "  <thead>\n",
       "    <tr style=\"text-align: right;\">\n",
       "      <th></th>\n",
       "      <th>Location</th>\n",
       "      <th>Indicator Rate Value</th>\n",
       "      <th>Rate Lower Confidence Interval</th>\n",
       "      <th>Rate Upper Confidence Interval</th>\n",
       "    </tr>\n",
       "  </thead>\n",
       "  <tbody>\n",
       "    <tr>\n",
       "      <th>0</th>\n",
       "      <td>100</td>\n",
       "      <td>191146</td>\n",
       "      <td>165735</td>\n",
       "      <td>216557</td>\n",
       "    </tr>\n",
       "    <tr>\n",
       "      <th>1</th>\n",
       "      <td>100</td>\n",
       "      <td>168477</td>\n",
       "      <td>150211</td>\n",
       "      <td>186743</td>\n",
       "    </tr>\n",
       "    <tr>\n",
       "      <th>2</th>\n",
       "      <td>100</td>\n",
       "      <td>167188</td>\n",
       "      <td>146473</td>\n",
       "      <td>187903</td>\n",
       "    </tr>\n",
       "    <tr>\n",
       "      <th>3</th>\n",
       "      <td>100</td>\n",
       "      <td>170338</td>\n",
       "      <td>150468</td>\n",
       "      <td>190208</td>\n",
       "    </tr>\n",
       "    <tr>\n",
       "      <th>4</th>\n",
       "      <td>100</td>\n",
       "      <td>146161</td>\n",
       "      <td>116553</td>\n",
       "      <td>175769</td>\n",
       "    </tr>\n",
       "    <tr>\n",
       "      <th>...</th>\n",
       "      <td>...</td>\n",
       "      <td>...</td>\n",
       "      <td>...</td>\n",
       "      <td>...</td>\n",
       "    </tr>\n",
       "    <tr>\n",
       "      <th>1561</th>\n",
       "      <td>11100</td>\n",
       "      <td>79628</td>\n",
       "      <td>61483</td>\n",
       "      <td>97773</td>\n",
       "    </tr>\n",
       "    <tr>\n",
       "      <th>1562</th>\n",
       "      <td>11100</td>\n",
       "      <td>75781</td>\n",
       "      <td>59806</td>\n",
       "      <td>91756</td>\n",
       "    </tr>\n",
       "    <tr>\n",
       "      <th>1563</th>\n",
       "      <td>11100</td>\n",
       "      <td>59716</td>\n",
       "      <td>40544</td>\n",
       "      <td>78888</td>\n",
       "    </tr>\n",
       "    <tr>\n",
       "      <th>1564</th>\n",
       "      <td>11100</td>\n",
       "      <td>58833</td>\n",
       "      <td>45754</td>\n",
       "      <td>71912</td>\n",
       "    </tr>\n",
       "    <tr>\n",
       "      <th>1565</th>\n",
       "      <td>11100</td>\n",
       "      <td>55108</td>\n",
       "      <td>45728</td>\n",
       "      <td>64488</td>\n",
       "    </tr>\n",
       "  </tbody>\n",
       "</table>\n",
       "<p>883 rows × 4 columns</p>\n",
       "</div>"
      ],
      "text/plain": [
       "      Location  Indicator Rate Value  Rate Lower Confidence Interval  \\\n",
       "0          100                191146                          165735   \n",
       "1          100                168477                          150211   \n",
       "2          100                167188                          146473   \n",
       "3          100                170338                          150468   \n",
       "4          100                146161                          116553   \n",
       "...        ...                   ...                             ...   \n",
       "1561     11100                 79628                           61483   \n",
       "1562     11100                 75781                           59806   \n",
       "1563     11100                 59716                           40544   \n",
       "1564     11100                 58833                           45754   \n",
       "1565     11100                 55108                           45728   \n",
       "\n",
       "      Rate Upper Confidence Interval  \n",
       "0                             216557  \n",
       "1                             186743  \n",
       "2                             187903  \n",
       "3                             190208  \n",
       "4                             175769  \n",
       "...                              ...  \n",
       "1561                           97773  \n",
       "1562                           91756  \n",
       "1563                           78888  \n",
       "1564                           71912  \n",
       "1565                           64488  \n",
       "\n",
       "[883 rows x 4 columns]"
      ]
     },
     "execution_count": 34,
     "metadata": {},
     "output_type": "execute_result"
    }
   ],
   "source": [
    "incomes.head()"
   ]
  },
  {
   "cell_type": "code",
   "execution_count": null,
   "metadata": {},
   "outputs": [],
   "source": []
  }
 ],
 "metadata": {
  "kernelspec": {
   "display_name": "Python 3",
   "language": "python",
   "name": "python3"
  },
  "language_info": {
   "codemirror_mode": {
    "name": "ipython",
    "version": 3
   },
   "file_extension": ".py",
   "mimetype": "text/x-python",
   "name": "python",
   "nbconvert_exporter": "python",
   "pygments_lexer": "ipython3",
   "version": "3.7.3"
  }
 },
 "nbformat": 4,
 "nbformat_minor": 2
}
